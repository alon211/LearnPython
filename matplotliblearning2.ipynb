{
 "cells": [
  {
   "cell_type": "markdown",
   "metadata": {},
   "source": [
    "#matplotlib学习教程2"
   ]
  },
  {
   "cell_type": "markdown",
   "metadata": {},
   "source": [
    "视频网址：
     https://m.youtube.com/watch?list=PLQVvvaa0QuDfefDfXb9Yf0la1fPDKluPF&params=OAE%253D&v=QyhqzaMiFxk&mode=NORMAL"
   ]
  },
  {
   "cell_type": "code",
   "execution_count": null,
   "metadata": {},
   "outputs": [],
   "source": []
  }
 ],
 "metadata": {
  "kernelspec": {
   "display_name": "Python 3",
   "language": "python",
   "name": "python3"
  },
  "language_info": {
   "codemirror_mode": {
    "name": "ipython",
    "version": 3
   },
   "file_extension": ".py",
   "mimetype": "text/x-python",
   "name": "python",
   "nbconvert_exporter": "python",
   "pygments_lexer": "ipython3",
   "version": "3.6.5"
  }
 },
 "nbformat": 4,
 "nbformat_minor": 2
}
